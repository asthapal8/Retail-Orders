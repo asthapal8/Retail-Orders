{
 "cells": [
  {
   "cell_type": "code",
   "execution_count": 1,
   "id": "74cc0585-5461-4a88-a10c-36530a047f8a",
   "metadata": {},
   "outputs": [],
   "source": [
    "import numpy as np\n",
    "import pandas as pd\n",
    "import matplotlib.pyplot as plt\n",
    "%matplotlib inline\n",
    "import seaborn as sns\n",
    "\n"
   ]
  },
  {
   "cell_type": "code",
   "execution_count": 2,
   "id": "6f380089-b070-4897-b6fd-729f40c55301",
   "metadata": {},
   "outputs": [],
   "source": [
    "df=pd.DataFrame"
   ]
  },
  {
   "cell_type": "markdown",
   "id": "681c5b7d-9d3e-44fd-8d38-b60c8221e497",
   "metadata": {},
   "source": [
    " # Read data from the file and handle null values"
   ]
  },
  {
   "cell_type": "code",
   "execution_count": 3,
   "id": "725f487f-e316-4797-8b53-020751b367bc",
   "metadata": {},
   "outputs": [],
   "source": [
    "\n",
    "df=pd.read_csv('orders.csv' ,na_values=[ 'Not Available', 'unknown'])"
   ]
  },
  {
   "cell_type": "code",
   "execution_count": 4,
   "id": "2b6f907b-ff36-4b5a-a028-3f4d7a9aa354",
   "metadata": {},
   "outputs": [
    {
     "data": {
      "text/plain": [
       "array(['Second Class', 'Standard Class', nan, 'First Class', 'Same Day'],\n",
       "      dtype=object)"
      ]
     },
     "execution_count": 4,
     "metadata": {},
     "output_type": "execute_result"
    }
   ],
   "source": [
    "df['Ship Mode'].unique()"
   ]
  },
  {
   "cell_type": "code",
   "execution_count": 5,
   "id": "a0347de3-923d-496f-95db-6884b8a9330a",
   "metadata": {},
   "outputs": [
    {
     "data": {
      "text/plain": [
       "(9994, 16)"
      ]
     },
     "execution_count": 5,
     "metadata": {},
     "output_type": "execute_result"
    }
   ],
   "source": [
    "df.shape"
   ]
  },
  {
   "cell_type": "code",
   "execution_count": 6,
   "id": "22372c11-0960-4480-9313-daf9d9add569",
   "metadata": {},
   "outputs": [
    {
     "name": "stdout",
     "output_type": "stream",
     "text": [
      "<class 'pandas.core.frame.DataFrame'>\n",
      "RangeIndex: 9994 entries, 0 to 9993\n",
      "Data columns (total 16 columns):\n",
      " #   Column            Non-Null Count  Dtype \n",
      "---  ------            --------------  ----- \n",
      " 0   Order Id          9994 non-null   int64 \n",
      " 1   Order Date        9994 non-null   object\n",
      " 2   Ship Mode         9988 non-null   object\n",
      " 3   Segment           9994 non-null   object\n",
      " 4   Country           9994 non-null   object\n",
      " 5   City              9994 non-null   object\n",
      " 6   State             9994 non-null   object\n",
      " 7   Postal Code       9994 non-null   int64 \n",
      " 8   Region            9994 non-null   object\n",
      " 9   Category          9994 non-null   object\n",
      " 10  Sub Category      9994 non-null   object\n",
      " 11  Product Id        9994 non-null   object\n",
      " 12  cost price        9994 non-null   int64 \n",
      " 13  List Price        9994 non-null   int64 \n",
      " 14  Quantity          9994 non-null   int64 \n",
      " 15  Discount Percent  9994 non-null   int64 \n",
      "dtypes: int64(6), object(10)\n",
      "memory usage: 1.2+ MB\n"
     ]
    }
   ],
   "source": [
    "df.info()"
   ]
  },
  {
   "cell_type": "code",
   "execution_count": 7,
   "id": "73da0853-c301-4cf5-b22e-12c661d4fec3",
   "metadata": {},
   "outputs": [
    {
     "data": {
      "text/html": [
       "<div>\n",
       "<style scoped>\n",
       "    .dataframe tbody tr th:only-of-type {\n",
       "        vertical-align: middle;\n",
       "    }\n",
       "\n",
       "    .dataframe tbody tr th {\n",
       "        vertical-align: top;\n",
       "    }\n",
       "\n",
       "    .dataframe thead th {\n",
       "        text-align: right;\n",
       "    }\n",
       "</style>\n",
       "<table border=\"1\" class=\"dataframe\">\n",
       "  <thead>\n",
       "    <tr style=\"text-align: right;\">\n",
       "      <th></th>\n",
       "      <th>Order Id</th>\n",
       "      <th>Postal Code</th>\n",
       "      <th>cost price</th>\n",
       "      <th>List Price</th>\n",
       "      <th>Quantity</th>\n",
       "      <th>Discount Percent</th>\n",
       "    </tr>\n",
       "  </thead>\n",
       "  <tbody>\n",
       "    <tr>\n",
       "      <th>count</th>\n",
       "      <td>9994.000000</td>\n",
       "      <td>9994.000000</td>\n",
       "      <td>9994.000000</td>\n",
       "      <td>9994.000000</td>\n",
       "      <td>9994.000000</td>\n",
       "      <td>9994.000000</td>\n",
       "    </tr>\n",
       "    <tr>\n",
       "      <th>mean</th>\n",
       "      <td>4997.500000</td>\n",
       "      <td>55190.379428</td>\n",
       "      <td>201.189714</td>\n",
       "      <td>229.756854</td>\n",
       "      <td>3.789574</td>\n",
       "      <td>3.484090</td>\n",
       "    </tr>\n",
       "    <tr>\n",
       "      <th>std</th>\n",
       "      <td>2885.163629</td>\n",
       "      <td>32063.693350</td>\n",
       "      <td>537.743203</td>\n",
       "      <td>623.245839</td>\n",
       "      <td>2.225110</td>\n",
       "      <td>1.114211</td>\n",
       "    </tr>\n",
       "    <tr>\n",
       "      <th>min</th>\n",
       "      <td>1.000000</td>\n",
       "      <td>1040.000000</td>\n",
       "      <td>0.000000</td>\n",
       "      <td>0.000000</td>\n",
       "      <td>1.000000</td>\n",
       "      <td>2.000000</td>\n",
       "    </tr>\n",
       "    <tr>\n",
       "      <th>25%</th>\n",
       "      <td>2499.250000</td>\n",
       "      <td>23223.000000</td>\n",
       "      <td>20.000000</td>\n",
       "      <td>20.000000</td>\n",
       "      <td>2.000000</td>\n",
       "      <td>2.000000</td>\n",
       "    </tr>\n",
       "    <tr>\n",
       "      <th>50%</th>\n",
       "      <td>4997.500000</td>\n",
       "      <td>56430.500000</td>\n",
       "      <td>50.000000</td>\n",
       "      <td>50.000000</td>\n",
       "      <td>3.000000</td>\n",
       "      <td>3.000000</td>\n",
       "    </tr>\n",
       "    <tr>\n",
       "      <th>75%</th>\n",
       "      <td>7495.750000</td>\n",
       "      <td>90008.000000</td>\n",
       "      <td>180.000000</td>\n",
       "      <td>210.000000</td>\n",
       "      <td>5.000000</td>\n",
       "      <td>4.000000</td>\n",
       "    </tr>\n",
       "    <tr>\n",
       "      <th>max</th>\n",
       "      <td>9994.000000</td>\n",
       "      <td>99301.000000</td>\n",
       "      <td>18110.000000</td>\n",
       "      <td>22640.000000</td>\n",
       "      <td>14.000000</td>\n",
       "      <td>5.000000</td>\n",
       "    </tr>\n",
       "  </tbody>\n",
       "</table>\n",
       "</div>"
      ],
      "text/plain": [
       "          Order Id   Postal Code    cost price    List Price     Quantity  \\\n",
       "count  9994.000000   9994.000000   9994.000000   9994.000000  9994.000000   \n",
       "mean   4997.500000  55190.379428    201.189714    229.756854     3.789574   \n",
       "std    2885.163629  32063.693350    537.743203    623.245839     2.225110   \n",
       "min       1.000000   1040.000000      0.000000      0.000000     1.000000   \n",
       "25%    2499.250000  23223.000000     20.000000     20.000000     2.000000   \n",
       "50%    4997.500000  56430.500000     50.000000     50.000000     3.000000   \n",
       "75%    7495.750000  90008.000000    180.000000    210.000000     5.000000   \n",
       "max    9994.000000  99301.000000  18110.000000  22640.000000    14.000000   \n",
       "\n",
       "       Discount Percent  \n",
       "count       9994.000000  \n",
       "mean           3.484090  \n",
       "std            1.114211  \n",
       "min            2.000000  \n",
       "25%            2.000000  \n",
       "50%            3.000000  \n",
       "75%            4.000000  \n",
       "max            5.000000  "
      ]
     },
     "execution_count": 7,
     "metadata": {},
     "output_type": "execute_result"
    }
   ],
   "source": [
    "df.describe()"
   ]
  },
  {
   "cell_type": "code",
   "execution_count": 8,
   "id": "e26c37a6-cc8d-4d0c-a011-275fa2c91344",
   "metadata": {},
   "outputs": [
    {
     "data": {
      "text/plain": [
       "Order Id            0\n",
       "Order Date          0\n",
       "Ship Mode           6\n",
       "Segment             0\n",
       "Country             0\n",
       "City                0\n",
       "State               0\n",
       "Postal Code         0\n",
       "Region              0\n",
       "Category            0\n",
       "Sub Category        0\n",
       "Product Id          0\n",
       "cost price          0\n",
       "List Price          0\n",
       "Quantity            0\n",
       "Discount Percent    0\n",
       "dtype: int64"
      ]
     },
     "execution_count": 8,
     "metadata": {},
     "output_type": "execute_result"
    }
   ],
   "source": [
    "df.isnull().sum()"
   ]
  },
  {
   "cell_type": "markdown",
   "id": "2190ae90-45af-4c44-aefa-46672aac82a4",
   "metadata": {},
   "source": [
    " # Rename columns names and  make them lower case and replace space with underscore"
   ]
  },
  {
   "cell_type": "code",
   "execution_count": 9,
   "id": "0e10d68e-3784-43f1-b5cf-c54c879434ea",
   "metadata": {},
   "outputs": [],
   "source": [
    "\n",
    "df.rename(columns={'Order Id': 'order_id','City':'city'})\n",
    "df.columns=df.columns.str.lower()\n",
    "df.columns=df.columns.str.replace(' ','_')"
   ]
  },
  {
   "cell_type": "code",
   "execution_count": 10,
   "id": "637d986c-ad70-4d5a-8956-64cc054326ea",
   "metadata": {},
   "outputs": [
    {
     "data": {
      "text/html": [
       "<div>\n",
       "<style scoped>\n",
       "    .dataframe tbody tr th:only-of-type {\n",
       "        vertical-align: middle;\n",
       "    }\n",
       "\n",
       "    .dataframe tbody tr th {\n",
       "        vertical-align: top;\n",
       "    }\n",
       "\n",
       "    .dataframe thead th {\n",
       "        text-align: right;\n",
       "    }\n",
       "</style>\n",
       "<table border=\"1\" class=\"dataframe\">\n",
       "  <thead>\n",
       "    <tr style=\"text-align: right;\">\n",
       "      <th></th>\n",
       "      <th>order_id</th>\n",
       "      <th>order_date</th>\n",
       "      <th>ship_mode</th>\n",
       "      <th>segment</th>\n",
       "      <th>country</th>\n",
       "      <th>city</th>\n",
       "      <th>state</th>\n",
       "      <th>postal_code</th>\n",
       "      <th>region</th>\n",
       "      <th>category</th>\n",
       "      <th>sub_category</th>\n",
       "      <th>product_id</th>\n",
       "      <th>cost_price</th>\n",
       "      <th>list_price</th>\n",
       "      <th>quantity</th>\n",
       "      <th>discount_percent</th>\n",
       "    </tr>\n",
       "  </thead>\n",
       "  <tbody>\n",
       "    <tr>\n",
       "      <th>0</th>\n",
       "      <td>1</td>\n",
       "      <td>2023-03-01</td>\n",
       "      <td>Second Class</td>\n",
       "      <td>Consumer</td>\n",
       "      <td>United States</td>\n",
       "      <td>Henderson</td>\n",
       "      <td>Kentucky</td>\n",
       "      <td>42420</td>\n",
       "      <td>South</td>\n",
       "      <td>Furniture</td>\n",
       "      <td>Bookcases</td>\n",
       "      <td>FUR-BO-10001798</td>\n",
       "      <td>240</td>\n",
       "      <td>260</td>\n",
       "      <td>2</td>\n",
       "      <td>2</td>\n",
       "    </tr>\n",
       "    <tr>\n",
       "      <th>1</th>\n",
       "      <td>2</td>\n",
       "      <td>2023-08-15</td>\n",
       "      <td>Second Class</td>\n",
       "      <td>Consumer</td>\n",
       "      <td>United States</td>\n",
       "      <td>Henderson</td>\n",
       "      <td>Kentucky</td>\n",
       "      <td>42420</td>\n",
       "      <td>South</td>\n",
       "      <td>Furniture</td>\n",
       "      <td>Chairs</td>\n",
       "      <td>FUR-CH-10000454</td>\n",
       "      <td>600</td>\n",
       "      <td>730</td>\n",
       "      <td>3</td>\n",
       "      <td>3</td>\n",
       "    </tr>\n",
       "    <tr>\n",
       "      <th>2</th>\n",
       "      <td>3</td>\n",
       "      <td>2023-01-10</td>\n",
       "      <td>Second Class</td>\n",
       "      <td>Corporate</td>\n",
       "      <td>United States</td>\n",
       "      <td>Los Angeles</td>\n",
       "      <td>California</td>\n",
       "      <td>90036</td>\n",
       "      <td>West</td>\n",
       "      <td>Office Supplies</td>\n",
       "      <td>Labels</td>\n",
       "      <td>OFF-LA-10000240</td>\n",
       "      <td>10</td>\n",
       "      <td>10</td>\n",
       "      <td>2</td>\n",
       "      <td>5</td>\n",
       "    </tr>\n",
       "    <tr>\n",
       "      <th>3</th>\n",
       "      <td>4</td>\n",
       "      <td>2022-06-18</td>\n",
       "      <td>Standard Class</td>\n",
       "      <td>Consumer</td>\n",
       "      <td>United States</td>\n",
       "      <td>Fort Lauderdale</td>\n",
       "      <td>Florida</td>\n",
       "      <td>33311</td>\n",
       "      <td>South</td>\n",
       "      <td>Furniture</td>\n",
       "      <td>Tables</td>\n",
       "      <td>FUR-TA-10000577</td>\n",
       "      <td>780</td>\n",
       "      <td>960</td>\n",
       "      <td>5</td>\n",
       "      <td>2</td>\n",
       "    </tr>\n",
       "    <tr>\n",
       "      <th>4</th>\n",
       "      <td>5</td>\n",
       "      <td>2022-07-13</td>\n",
       "      <td>Standard Class</td>\n",
       "      <td>Consumer</td>\n",
       "      <td>United States</td>\n",
       "      <td>Fort Lauderdale</td>\n",
       "      <td>Florida</td>\n",
       "      <td>33311</td>\n",
       "      <td>South</td>\n",
       "      <td>Office Supplies</td>\n",
       "      <td>Storage</td>\n",
       "      <td>OFF-ST-10000760</td>\n",
       "      <td>20</td>\n",
       "      <td>20</td>\n",
       "      <td>2</td>\n",
       "      <td>5</td>\n",
       "    </tr>\n",
       "  </tbody>\n",
       "</table>\n",
       "</div>"
      ],
      "text/plain": [
       "   order_id  order_date       ship_mode    segment        country  \\\n",
       "0         1  2023-03-01    Second Class   Consumer  United States   \n",
       "1         2  2023-08-15    Second Class   Consumer  United States   \n",
       "2         3  2023-01-10    Second Class  Corporate  United States   \n",
       "3         4  2022-06-18  Standard Class   Consumer  United States   \n",
       "4         5  2022-07-13  Standard Class   Consumer  United States   \n",
       "\n",
       "              city       state  postal_code region         category  \\\n",
       "0        Henderson    Kentucky        42420  South        Furniture   \n",
       "1        Henderson    Kentucky        42420  South        Furniture   \n",
       "2      Los Angeles  California        90036   West  Office Supplies   \n",
       "3  Fort Lauderdale     Florida        33311  South        Furniture   \n",
       "4  Fort Lauderdale     Florida        33311  South  Office Supplies   \n",
       "\n",
       "  sub_category       product_id  cost_price  list_price  quantity  \\\n",
       "0    Bookcases  FUR-BO-10001798         240         260         2   \n",
       "1       Chairs  FUR-CH-10000454         600         730         3   \n",
       "2       Labels  OFF-LA-10000240          10          10         2   \n",
       "3       Tables  FUR-TA-10000577         780         960         5   \n",
       "4      Storage  OFF-ST-10000760          20          20         2   \n",
       "\n",
       "   discount_percent  \n",
       "0                 2  \n",
       "1                 3  \n",
       "2                 5  \n",
       "3                 2  \n",
       "4                 5  "
      ]
     },
     "execution_count": 10,
     "metadata": {},
     "output_type": "execute_result"
    }
   ],
   "source": [
    "df.head()"
   ]
  },
  {
   "cell_type": "markdown",
   "id": "171d06e1-09c0-416b-a75a-f30fbb7c50ef",
   "metadata": {},
   "source": [
    "# Derive new columns discount ,sale price and profit"
   ]
  },
  {
   "cell_type": "code",
   "execution_count": 11,
   "id": "c4ffaa9b-cfa6-46da-bc65-e9c967f2a4bb",
   "metadata": {
    "scrolled": true
   },
   "outputs": [
    {
     "data": {
      "text/html": [
       "<div>\n",
       "<style scoped>\n",
       "    .dataframe tbody tr th:only-of-type {\n",
       "        vertical-align: middle;\n",
       "    }\n",
       "\n",
       "    .dataframe tbody tr th {\n",
       "        vertical-align: top;\n",
       "    }\n",
       "\n",
       "    .dataframe thead th {\n",
       "        text-align: right;\n",
       "    }\n",
       "</style>\n",
       "<table border=\"1\" class=\"dataframe\">\n",
       "  <thead>\n",
       "    <tr style=\"text-align: right;\">\n",
       "      <th></th>\n",
       "      <th>order_id</th>\n",
       "      <th>order_date</th>\n",
       "      <th>ship_mode</th>\n",
       "      <th>segment</th>\n",
       "      <th>country</th>\n",
       "      <th>city</th>\n",
       "      <th>state</th>\n",
       "      <th>postal_code</th>\n",
       "      <th>region</th>\n",
       "      <th>category</th>\n",
       "      <th>sub_category</th>\n",
       "      <th>product_id</th>\n",
       "      <th>cost_price</th>\n",
       "      <th>list_price</th>\n",
       "      <th>quantity</th>\n",
       "      <th>discount_percent</th>\n",
       "      <th>discount</th>\n",
       "      <th>sale_price</th>\n",
       "      <th>profit</th>\n",
       "    </tr>\n",
       "  </thead>\n",
       "  <tbody>\n",
       "    <tr>\n",
       "      <th>0</th>\n",
       "      <td>1</td>\n",
       "      <td>2023-03-01</td>\n",
       "      <td>Second Class</td>\n",
       "      <td>Consumer</td>\n",
       "      <td>United States</td>\n",
       "      <td>Henderson</td>\n",
       "      <td>Kentucky</td>\n",
       "      <td>42420</td>\n",
       "      <td>South</td>\n",
       "      <td>Furniture</td>\n",
       "      <td>Bookcases</td>\n",
       "      <td>FUR-BO-10001798</td>\n",
       "      <td>240</td>\n",
       "      <td>260</td>\n",
       "      <td>2</td>\n",
       "      <td>2</td>\n",
       "      <td>5.2</td>\n",
       "      <td>254.8</td>\n",
       "      <td>14.8</td>\n",
       "    </tr>\n",
       "    <tr>\n",
       "      <th>1</th>\n",
       "      <td>2</td>\n",
       "      <td>2023-08-15</td>\n",
       "      <td>Second Class</td>\n",
       "      <td>Consumer</td>\n",
       "      <td>United States</td>\n",
       "      <td>Henderson</td>\n",
       "      <td>Kentucky</td>\n",
       "      <td>42420</td>\n",
       "      <td>South</td>\n",
       "      <td>Furniture</td>\n",
       "      <td>Chairs</td>\n",
       "      <td>FUR-CH-10000454</td>\n",
       "      <td>600</td>\n",
       "      <td>730</td>\n",
       "      <td>3</td>\n",
       "      <td>3</td>\n",
       "      <td>21.9</td>\n",
       "      <td>708.1</td>\n",
       "      <td>108.1</td>\n",
       "    </tr>\n",
       "    <tr>\n",
       "      <th>2</th>\n",
       "      <td>3</td>\n",
       "      <td>2023-01-10</td>\n",
       "      <td>Second Class</td>\n",
       "      <td>Corporate</td>\n",
       "      <td>United States</td>\n",
       "      <td>Los Angeles</td>\n",
       "      <td>California</td>\n",
       "      <td>90036</td>\n",
       "      <td>West</td>\n",
       "      <td>Office Supplies</td>\n",
       "      <td>Labels</td>\n",
       "      <td>OFF-LA-10000240</td>\n",
       "      <td>10</td>\n",
       "      <td>10</td>\n",
       "      <td>2</td>\n",
       "      <td>5</td>\n",
       "      <td>0.5</td>\n",
       "      <td>9.5</td>\n",
       "      <td>-0.5</td>\n",
       "    </tr>\n",
       "    <tr>\n",
       "      <th>3</th>\n",
       "      <td>4</td>\n",
       "      <td>2022-06-18</td>\n",
       "      <td>Standard Class</td>\n",
       "      <td>Consumer</td>\n",
       "      <td>United States</td>\n",
       "      <td>Fort Lauderdale</td>\n",
       "      <td>Florida</td>\n",
       "      <td>33311</td>\n",
       "      <td>South</td>\n",
       "      <td>Furniture</td>\n",
       "      <td>Tables</td>\n",
       "      <td>FUR-TA-10000577</td>\n",
       "      <td>780</td>\n",
       "      <td>960</td>\n",
       "      <td>5</td>\n",
       "      <td>2</td>\n",
       "      <td>19.2</td>\n",
       "      <td>940.8</td>\n",
       "      <td>160.8</td>\n",
       "    </tr>\n",
       "    <tr>\n",
       "      <th>4</th>\n",
       "      <td>5</td>\n",
       "      <td>2022-07-13</td>\n",
       "      <td>Standard Class</td>\n",
       "      <td>Consumer</td>\n",
       "      <td>United States</td>\n",
       "      <td>Fort Lauderdale</td>\n",
       "      <td>Florida</td>\n",
       "      <td>33311</td>\n",
       "      <td>South</td>\n",
       "      <td>Office Supplies</td>\n",
       "      <td>Storage</td>\n",
       "      <td>OFF-ST-10000760</td>\n",
       "      <td>20</td>\n",
       "      <td>20</td>\n",
       "      <td>2</td>\n",
       "      <td>5</td>\n",
       "      <td>1.0</td>\n",
       "      <td>19.0</td>\n",
       "      <td>-1.0</td>\n",
       "    </tr>\n",
       "    <tr>\n",
       "      <th>...</th>\n",
       "      <td>...</td>\n",
       "      <td>...</td>\n",
       "      <td>...</td>\n",
       "      <td>...</td>\n",
       "      <td>...</td>\n",
       "      <td>...</td>\n",
       "      <td>...</td>\n",
       "      <td>...</td>\n",
       "      <td>...</td>\n",
       "      <td>...</td>\n",
       "      <td>...</td>\n",
       "      <td>...</td>\n",
       "      <td>...</td>\n",
       "      <td>...</td>\n",
       "      <td>...</td>\n",
       "      <td>...</td>\n",
       "      <td>...</td>\n",
       "      <td>...</td>\n",
       "      <td>...</td>\n",
       "    </tr>\n",
       "    <tr>\n",
       "      <th>9989</th>\n",
       "      <td>9990</td>\n",
       "      <td>2023-02-18</td>\n",
       "      <td>Second Class</td>\n",
       "      <td>Consumer</td>\n",
       "      <td>United States</td>\n",
       "      <td>Miami</td>\n",
       "      <td>Florida</td>\n",
       "      <td>33180</td>\n",
       "      <td>South</td>\n",
       "      <td>Furniture</td>\n",
       "      <td>Furnishings</td>\n",
       "      <td>FUR-FU-10001889</td>\n",
       "      <td>30</td>\n",
       "      <td>30</td>\n",
       "      <td>3</td>\n",
       "      <td>4</td>\n",
       "      <td>1.2</td>\n",
       "      <td>28.8</td>\n",
       "      <td>-1.2</td>\n",
       "    </tr>\n",
       "    <tr>\n",
       "      <th>9990</th>\n",
       "      <td>9991</td>\n",
       "      <td>2023-03-17</td>\n",
       "      <td>Standard Class</td>\n",
       "      <td>Consumer</td>\n",
       "      <td>United States</td>\n",
       "      <td>Costa Mesa</td>\n",
       "      <td>California</td>\n",
       "      <td>92627</td>\n",
       "      <td>West</td>\n",
       "      <td>Furniture</td>\n",
       "      <td>Furnishings</td>\n",
       "      <td>FUR-FU-10000747</td>\n",
       "      <td>70</td>\n",
       "      <td>90</td>\n",
       "      <td>2</td>\n",
       "      <td>4</td>\n",
       "      <td>3.6</td>\n",
       "      <td>86.4</td>\n",
       "      <td>16.4</td>\n",
       "    </tr>\n",
       "    <tr>\n",
       "      <th>9991</th>\n",
       "      <td>9992</td>\n",
       "      <td>2022-08-07</td>\n",
       "      <td>Standard Class</td>\n",
       "      <td>Consumer</td>\n",
       "      <td>United States</td>\n",
       "      <td>Costa Mesa</td>\n",
       "      <td>California</td>\n",
       "      <td>92627</td>\n",
       "      <td>West</td>\n",
       "      <td>Technology</td>\n",
       "      <td>Phones</td>\n",
       "      <td>TEC-PH-10003645</td>\n",
       "      <td>220</td>\n",
       "      <td>260</td>\n",
       "      <td>2</td>\n",
       "      <td>2</td>\n",
       "      <td>5.2</td>\n",
       "      <td>254.8</td>\n",
       "      <td>34.8</td>\n",
       "    </tr>\n",
       "    <tr>\n",
       "      <th>9992</th>\n",
       "      <td>9993</td>\n",
       "      <td>2022-11-19</td>\n",
       "      <td>Standard Class</td>\n",
       "      <td>Consumer</td>\n",
       "      <td>United States</td>\n",
       "      <td>Costa Mesa</td>\n",
       "      <td>California</td>\n",
       "      <td>92627</td>\n",
       "      <td>West</td>\n",
       "      <td>Office Supplies</td>\n",
       "      <td>Paper</td>\n",
       "      <td>OFF-PA-10004041</td>\n",
       "      <td>30</td>\n",
       "      <td>30</td>\n",
       "      <td>4</td>\n",
       "      <td>3</td>\n",
       "      <td>0.9</td>\n",
       "      <td>29.1</td>\n",
       "      <td>-0.9</td>\n",
       "    </tr>\n",
       "    <tr>\n",
       "      <th>9993</th>\n",
       "      <td>9994</td>\n",
       "      <td>2022-07-17</td>\n",
       "      <td>Second Class</td>\n",
       "      <td>Consumer</td>\n",
       "      <td>United States</td>\n",
       "      <td>Westminster</td>\n",
       "      <td>California</td>\n",
       "      <td>92683</td>\n",
       "      <td>West</td>\n",
       "      <td>Office Supplies</td>\n",
       "      <td>Appliances</td>\n",
       "      <td>OFF-AP-10002684</td>\n",
       "      <td>210</td>\n",
       "      <td>240</td>\n",
       "      <td>2</td>\n",
       "      <td>3</td>\n",
       "      <td>7.2</td>\n",
       "      <td>232.8</td>\n",
       "      <td>22.8</td>\n",
       "    </tr>\n",
       "  </tbody>\n",
       "</table>\n",
       "<p>9994 rows × 19 columns</p>\n",
       "</div>"
      ],
      "text/plain": [
       "      order_id  order_date       ship_mode    segment        country  \\\n",
       "0            1  2023-03-01    Second Class   Consumer  United States   \n",
       "1            2  2023-08-15    Second Class   Consumer  United States   \n",
       "2            3  2023-01-10    Second Class  Corporate  United States   \n",
       "3            4  2022-06-18  Standard Class   Consumer  United States   \n",
       "4            5  2022-07-13  Standard Class   Consumer  United States   \n",
       "...        ...         ...             ...        ...            ...   \n",
       "9989      9990  2023-02-18    Second Class   Consumer  United States   \n",
       "9990      9991  2023-03-17  Standard Class   Consumer  United States   \n",
       "9991      9992  2022-08-07  Standard Class   Consumer  United States   \n",
       "9992      9993  2022-11-19  Standard Class   Consumer  United States   \n",
       "9993      9994  2022-07-17    Second Class   Consumer  United States   \n",
       "\n",
       "                 city       state  postal_code region         category  \\\n",
       "0           Henderson    Kentucky        42420  South        Furniture   \n",
       "1           Henderson    Kentucky        42420  South        Furniture   \n",
       "2         Los Angeles  California        90036   West  Office Supplies   \n",
       "3     Fort Lauderdale     Florida        33311  South        Furniture   \n",
       "4     Fort Lauderdale     Florida        33311  South  Office Supplies   \n",
       "...               ...         ...          ...    ...              ...   \n",
       "9989            Miami     Florida        33180  South        Furniture   \n",
       "9990       Costa Mesa  California        92627   West        Furniture   \n",
       "9991       Costa Mesa  California        92627   West       Technology   \n",
       "9992       Costa Mesa  California        92627   West  Office Supplies   \n",
       "9993      Westminster  California        92683   West  Office Supplies   \n",
       "\n",
       "     sub_category       product_id  cost_price  list_price  quantity  \\\n",
       "0       Bookcases  FUR-BO-10001798         240         260         2   \n",
       "1          Chairs  FUR-CH-10000454         600         730         3   \n",
       "2          Labels  OFF-LA-10000240          10          10         2   \n",
       "3          Tables  FUR-TA-10000577         780         960         5   \n",
       "4         Storage  OFF-ST-10000760          20          20         2   \n",
       "...           ...              ...         ...         ...       ...   \n",
       "9989  Furnishings  FUR-FU-10001889          30          30         3   \n",
       "9990  Furnishings  FUR-FU-10000747          70          90         2   \n",
       "9991       Phones  TEC-PH-10003645         220         260         2   \n",
       "9992        Paper  OFF-PA-10004041          30          30         4   \n",
       "9993   Appliances  OFF-AP-10002684         210         240         2   \n",
       "\n",
       "      discount_percent  discount  sale_price  profit  \n",
       "0                    2       5.2       254.8    14.8  \n",
       "1                    3      21.9       708.1   108.1  \n",
       "2                    5       0.5         9.5    -0.5  \n",
       "3                    2      19.2       940.8   160.8  \n",
       "4                    5       1.0        19.0    -1.0  \n",
       "...                ...       ...         ...     ...  \n",
       "9989                 4       1.2        28.8    -1.2  \n",
       "9990                 4       3.6        86.4    16.4  \n",
       "9991                 2       5.2       254.8    34.8  \n",
       "9992                 3       0.9        29.1    -0.9  \n",
       "9993                 3       7.2       232.8    22.8  \n",
       "\n",
       "[9994 rows x 19 columns]"
      ]
     },
     "execution_count": 11,
     "metadata": {},
     "output_type": "execute_result"
    }
   ],
   "source": [
    "# derive new columns discount ,sale price and profit\n",
    "df['discount']=df['list_price']*df['discount_percent']/100\n",
    "df['sale_price']=df['list_price']-df['discount']\n",
    "df['profit']=df['sale_price']-df['cost_price']\n",
    "df"
   ]
  },
  {
   "cell_type": "markdown",
   "id": "b7f9c2c7-f234-453d-8fe5-777e631e53d7",
   "metadata": {},
   "source": [
    "# Convert order date from object datatype to datetime"
   ]
  },
  {
   "cell_type": "code",
   "execution_count": 12,
   "id": "944db4ba-70e5-443b-9f82-f8eb52384168",
   "metadata": {},
   "outputs": [],
   "source": [
    "\n",
    "df['order_date']=pd.to_datetime(df['order_date'],format=\"%Y-%m-%d\")\n"
   ]
  },
  {
   "cell_type": "markdown",
   "id": "996e2a05-7a85-4622-84ab-9132c6b02378",
   "metadata": {},
   "source": [
    "# Drop cost price,list price, discount percent columns"
   ]
  },
  {
   "cell_type": "code",
   "execution_count": 13,
   "id": "44a2da42-f921-4f68-824a-b3bbccc03fda",
   "metadata": {},
   "outputs": [],
   "source": [
    "\n",
    "df.drop(columns=['cost_price','list_price','discount_percent'],inplace=True)"
   ]
  },
  {
   "cell_type": "markdown",
   "id": "d686e8ce-8799-4a7e-bef5-7cc9a1734778",
   "metadata": {},
   "source": [
    "# Load  the data into sql server "
   ]
  },
  {
   "cell_type": "code",
   "execution_count": 14,
   "id": "00de7165-a5cc-4828-9cba-7c752914313a",
   "metadata": {},
   "outputs": [],
   "source": [
    "\n",
    "import sqlalchemy as sal\n",
    "engine = sal.create_engine('mssql://Astha\\MSSQLSERVER01/retail_orders?driver=ODBC+DRIVER+17+FOR+SQL+SERVER')\n",
    "conn=engine.connect()"
   ]
  },
  {
   "cell_type": "code",
   "execution_count": 15,
   "id": "88f7d577-6686-4666-8469-4096016c39a6",
   "metadata": {},
   "outputs": [
    {
     "data": {
      "text/plain": [
       "pandas.core.frame.DataFrame"
      ]
     },
     "execution_count": 15,
     "metadata": {},
     "output_type": "execute_result"
    }
   ],
   "source": [
    "type(df)"
   ]
  },
  {
   "cell_type": "code",
   "execution_count": 16,
   "id": "49db6b16-2e24-4a93-8cc7-f2b4f607dca6",
   "metadata": {},
   "outputs": [
    {
     "data": {
      "text/plain": [
       "Index(['order_id', 'order_date', 'ship_mode', 'segment', 'country', 'city',\n",
       "       'state', 'postal_code', 'region', 'category', 'sub_category',\n",
       "       'product_id', 'quantity', 'discount', 'sale_price', 'profit'],\n",
       "      dtype='object')"
      ]
     },
     "execution_count": 16,
     "metadata": {},
     "output_type": "execute_result"
    }
   ],
   "source": [
    "df.columns"
   ]
  },
  {
   "cell_type": "code",
   "execution_count": 17,
   "id": "52efcbbb-7e43-4fe8-b281-6b149d1ad6ee",
   "metadata": {},
   "outputs": [
    {
     "data": {
      "text/plain": [
       "38"
      ]
     },
     "execution_count": 17,
     "metadata": {},
     "output_type": "execute_result"
    }
   ],
   "source": [
    "df.to_sql(\n",
    "    \"orders\",\n",
    "    conn,\n",
    "    if_exists=\"append\",\n",
    "    index=False\n",
    ")\n",
    "        "
   ]
  },
  {
   "cell_type": "code",
   "execution_count": 18,
   "id": "f17df854-398c-425f-97b4-d1c8d642633c",
   "metadata": {},
   "outputs": [
    {
     "data": {
      "text/html": [
       "<div>\n",
       "<style scoped>\n",
       "    .dataframe tbody tr th:only-of-type {\n",
       "        vertical-align: middle;\n",
       "    }\n",
       "\n",
       "    .dataframe tbody tr th {\n",
       "        vertical-align: top;\n",
       "    }\n",
       "\n",
       "    .dataframe thead th {\n",
       "        text-align: right;\n",
       "    }\n",
       "</style>\n",
       "<table border=\"1\" class=\"dataframe\">\n",
       "  <thead>\n",
       "    <tr style=\"text-align: right;\">\n",
       "      <th></th>\n",
       "      <th>order_id</th>\n",
       "      <th>order_date</th>\n",
       "      <th>ship_mode</th>\n",
       "      <th>segment</th>\n",
       "      <th>country</th>\n",
       "      <th>city</th>\n",
       "      <th>state</th>\n",
       "      <th>postal_code</th>\n",
       "      <th>region</th>\n",
       "      <th>category</th>\n",
       "      <th>sub_category</th>\n",
       "      <th>product_id</th>\n",
       "      <th>quantity</th>\n",
       "      <th>discount</th>\n",
       "      <th>sale_price</th>\n",
       "      <th>profit</th>\n",
       "    </tr>\n",
       "  </thead>\n",
       "  <tbody>\n",
       "    <tr>\n",
       "      <th>0</th>\n",
       "      <td>1</td>\n",
       "      <td>2023-03-01</td>\n",
       "      <td>Second Class</td>\n",
       "      <td>Consumer</td>\n",
       "      <td>United States</td>\n",
       "      <td>Henderson</td>\n",
       "      <td>Kentucky</td>\n",
       "      <td>42420</td>\n",
       "      <td>South</td>\n",
       "      <td>Furniture</td>\n",
       "      <td>Bookcases</td>\n",
       "      <td>FUR-BO-10001798</td>\n",
       "      <td>2</td>\n",
       "      <td>5.2</td>\n",
       "      <td>254.8</td>\n",
       "      <td>14.8</td>\n",
       "    </tr>\n",
       "    <tr>\n",
       "      <th>1</th>\n",
       "      <td>2</td>\n",
       "      <td>2023-08-15</td>\n",
       "      <td>Second Class</td>\n",
       "      <td>Consumer</td>\n",
       "      <td>United States</td>\n",
       "      <td>Henderson</td>\n",
       "      <td>Kentucky</td>\n",
       "      <td>42420</td>\n",
       "      <td>South</td>\n",
       "      <td>Furniture</td>\n",
       "      <td>Chairs</td>\n",
       "      <td>FUR-CH-10000454</td>\n",
       "      <td>3</td>\n",
       "      <td>21.9</td>\n",
       "      <td>708.1</td>\n",
       "      <td>108.1</td>\n",
       "    </tr>\n",
       "    <tr>\n",
       "      <th>2</th>\n",
       "      <td>3</td>\n",
       "      <td>2023-01-10</td>\n",
       "      <td>Second Class</td>\n",
       "      <td>Corporate</td>\n",
       "      <td>United States</td>\n",
       "      <td>Los Angeles</td>\n",
       "      <td>California</td>\n",
       "      <td>90036</td>\n",
       "      <td>West</td>\n",
       "      <td>Office Supplies</td>\n",
       "      <td>Labels</td>\n",
       "      <td>OFF-LA-10000240</td>\n",
       "      <td>2</td>\n",
       "      <td>0.5</td>\n",
       "      <td>9.5</td>\n",
       "      <td>-0.5</td>\n",
       "    </tr>\n",
       "    <tr>\n",
       "      <th>3</th>\n",
       "      <td>4</td>\n",
       "      <td>2022-06-18</td>\n",
       "      <td>Standard Class</td>\n",
       "      <td>Consumer</td>\n",
       "      <td>United States</td>\n",
       "      <td>Fort Lauderdale</td>\n",
       "      <td>Florida</td>\n",
       "      <td>33311</td>\n",
       "      <td>South</td>\n",
       "      <td>Furniture</td>\n",
       "      <td>Tables</td>\n",
       "      <td>FUR-TA-10000577</td>\n",
       "      <td>5</td>\n",
       "      <td>19.2</td>\n",
       "      <td>940.8</td>\n",
       "      <td>160.8</td>\n",
       "    </tr>\n",
       "    <tr>\n",
       "      <th>4</th>\n",
       "      <td>5</td>\n",
       "      <td>2022-07-13</td>\n",
       "      <td>Standard Class</td>\n",
       "      <td>Consumer</td>\n",
       "      <td>United States</td>\n",
       "      <td>Fort Lauderdale</td>\n",
       "      <td>Florida</td>\n",
       "      <td>33311</td>\n",
       "      <td>South</td>\n",
       "      <td>Office Supplies</td>\n",
       "      <td>Storage</td>\n",
       "      <td>OFF-ST-10000760</td>\n",
       "      <td>2</td>\n",
       "      <td>1.0</td>\n",
       "      <td>19.0</td>\n",
       "      <td>-1.0</td>\n",
       "    </tr>\n",
       "  </tbody>\n",
       "</table>\n",
       "</div>"
      ],
      "text/plain": [
       "   order_id order_date       ship_mode    segment        country  \\\n",
       "0         1 2023-03-01    Second Class   Consumer  United States   \n",
       "1         2 2023-08-15    Second Class   Consumer  United States   \n",
       "2         3 2023-01-10    Second Class  Corporate  United States   \n",
       "3         4 2022-06-18  Standard Class   Consumer  United States   \n",
       "4         5 2022-07-13  Standard Class   Consumer  United States   \n",
       "\n",
       "              city       state  postal_code region         category  \\\n",
       "0        Henderson    Kentucky        42420  South        Furniture   \n",
       "1        Henderson    Kentucky        42420  South        Furniture   \n",
       "2      Los Angeles  California        90036   West  Office Supplies   \n",
       "3  Fort Lauderdale     Florida        33311  South        Furniture   \n",
       "4  Fort Lauderdale     Florida        33311  South  Office Supplies   \n",
       "\n",
       "  sub_category       product_id  quantity  discount  sale_price  profit  \n",
       "0    Bookcases  FUR-BO-10001798         2       5.2       254.8    14.8  \n",
       "1       Chairs  FUR-CH-10000454         3      21.9       708.1   108.1  \n",
       "2       Labels  OFF-LA-10000240         2       0.5         9.5    -0.5  \n",
       "3       Tables  FUR-TA-10000577         5      19.2       940.8   160.8  \n",
       "4      Storage  OFF-ST-10000760         2       1.0        19.0    -1.0  "
      ]
     },
     "execution_count": 18,
     "metadata": {},
     "output_type": "execute_result"
    }
   ],
   "source": [
    "df.head()"
   ]
  },
  {
   "cell_type": "code",
   "execution_count": 19,
   "id": "708828e3-6103-41be-8645-2d1aa5513ac7",
   "metadata": {},
   "outputs": [],
   "source": [
    "#connect to database\n",
    "\n",
    "import pyodbc\n",
    "import pandas as pd"
   ]
  },
  {
   "cell_type": "code",
   "execution_count": 20,
   "id": "6d20fb45-2e86-4133-be34-4270fba8eaaa",
   "metadata": {},
   "outputs": [
    {
     "name": "stdout",
     "output_type": "stream",
     "text": [
      "Microsoft SQL Server 2022 (RTM) - 16.0.1000.6 (X64) \n",
      "\tOct  8 2022 05:58:25 \n",
      "\tCopyright (C) 2022 Microsoft Corporation\n",
      "\tDeveloper Edition (64-bit) on Windows 10 Home Single Language 10.0 <X64> (Build 26100: ) (Hypervisor)\n",
      "\n"
     ]
    }
   ],
   "source": [
    "conn=pyodbc.connect(\n",
    "    \"Driver={SQL Server};\"\n",
    "    \"Server=Astha\\MSSQLSERVER01;\"\n",
    "    \"Database=retail_orders;\"\n",
    "    \"Trusted_Connection=yes;\"\n",
    ")\n",
    "cursor = conn.cursor()\n",
    "cursor.execute(\"SELECT @@VERSION;\")   # test query\n",
    "row = cursor.fetchone()\n",
    "print(row[0])"
   ]
  },
  {
   "cell_type": "markdown",
   "id": "005baf5e-b081-4134-80fe-59842820acbb",
   "metadata": {},
   "source": [
    "# What is the total sales and total profit overall"
   ]
  },
  {
   "cell_type": "code",
   "execution_count": 22,
   "id": "901f0424-e8d7-4672-af09-7ef46744833e",
   "metadata": {},
   "outputs": [
    {
     "name": "stdout",
     "output_type": "stream",
     "text": [
      "   total_sales  total_profit\n",
      "0    2215858.7      205168.7\n"
     ]
    },
    {
     "data": {
      "image/png": "[encoded data removed]",
      "text/plain": [
       "<Figure size 500x300 with 1 Axes>"
      ]
     },
     "metadata": {},
     "output_type": "display_data"
    }
   ],
   "source": [
    "query=\"\"\"select sum(sale_price)as total_sales,\n",
    "  sum(profit)as total_profit from df_orders;\"\"\"\n",
    "df=pd.read_sql(query,conn)\n",
    "print(df)\n",
    "\n",
    "categories=[\"Total Sales\",\"Total Profit\"]\n",
    "values=[2215858.7, 205168.7]\n",
    "plt.figure(figsize=(5,3))\n",
    "plt.bar(categories ,values, color=(\"blue\",\"green\"))\n",
    "plt.title(\"Total Sales vs Total Profit\")\n",
    "plt.ylabel(\"Amount\")\n",
    "plt.show()\n"
   ]
  },
  {
   "cell_type": "markdown",
   "id": "4e1a9d2c-20a9-48f4-8303-6b84849af567",
   "metadata": {},
   "source": [
    "# Which ship mode is most frequantly used"
   ]
  },
  {
   "cell_type": "code",
   "execution_count": 23,
   "id": "fb8556b5-5128-44ad-9441-bfe4b2f36e7e",
   "metadata": {},
   "outputs": [
    {
     "name": "stdout",
     "output_type": "stream",
     "text": [
      "        ship_mode  total_orders\n",
      "0  Standard Class          5962\n",
      "1    Second Class          1945\n",
      "2     First Class          1538\n",
      "3        Same Day           543\n",
      "4            None             6\n"
     ]
    },
    {
     "data": {
      "image/png": "[encoded data removed]",
      "text/plain": [
       "<Figure size 640x480 with 1 Axes>"
      ]
     },
     "metadata": {},
     "output_type": "display_data"
    }
   ],
   "source": [
    "query=\"\"\"select  ship_mode,count(order_id)as total_orders\n",
    " from df_orders\n",
    " group by ship_mode\n",
    " order by total_orders desc;\"\"\"\n",
    "df=pd.read_sql(query,conn)\n",
    "print(df)\n",
    "\n",
    "data=pd.DataFrame({\n",
    "    \"Ship Mode\":[\"Standard Class \",\"Second Class \",\"First Class \",\" Same Day \",\"None \"],\n",
    "\"Total Orders\":[5962, 1945,1538, 543, 6]})\n",
    "sns.barplot(x=\"Total Orders\", y=\"Ship Mode\",data=data)\n",
    "plt.title(\"Most Frequently Used Ship Mode\")\n",
    "plt.xlabel(\"Total Orders\")\n",
    "plt.ylabel(\"ship Mode\")\n",
    "plt.show()"
   ]
  },
  {
   "cell_type": "code",
   "execution_count": 24,
   "id": "46fa7a2e-0ad4-4f43-895b-669f731fe611",
   "metadata": {},
   "outputs": [
    {
     "name": "stdout",
     "output_type": "stream",
     "text": [
      "Index(['Ship Mode', 'Total Orders'], dtype='object')\n"
     ]
    }
   ],
   "source": [
    "print(data.columns)"
   ]
  },
  {
   "cell_type": "markdown",
   "id": "da3e8305-2436-4d07-9945-2337509fe0fd",
   "metadata": {},
   "source": [
    "# Which region has the maximum total sales"
   ]
  },
  {
   "cell_type": "code",
   "execution_count": 25,
   "id": "4725a4cb-47ca-4c41-96d4-a0ed402b7b63",
   "metadata": {},
   "outputs": [
    {
     "name": "stdout",
     "output_type": "stream",
     "text": [
      "    region  total_sales\n",
      "0     West     699858.6\n",
      "1     East     654320.0\n",
      "2  Central     483668.6\n",
      "3    South     378011.5\n"
     ]
    },
    {
     "data": {
      "image/png": "[encoded data removed]",
      "text/plain": [
       "<Figure size 640x480 with 1 Axes>"
      ]
     },
     "metadata": {},
     "output_type": "display_data"
    }
   ],
   "source": [
    "query=\"\"\" select  region,sum(sale_price) as total_sales\n",
    " from df_orders\n",
    " group by region\n",
    " order by total_sales desc;\"\"\"\n",
    "df=pd.read_sql(query,conn)\n",
    "print(df)\n",
    "\n",
    "region=[\"West\",\"East\",\"Central\",\"South\"]\n",
    "total_sales=[699858.6, 654320.0,483668.6,378011.5]\n",
    "plt.bar(region,total_sales,color=\"skyblue\")\n",
    "plt.title(\"Region with maximum total sales\")\n",
    "plt.xlabel(\"Region\")\n",
    "plt.ylabel(\"Total Sales\")\n",
    "plt.show()"
   ]
  },
  {
   "cell_type": "markdown",
   "id": "56232089-937d-40ca-9048-524b69e5edbb",
   "metadata": {},
   "source": [
    " # Find the top 5 state by profit"
   ]
  },
  {
   "cell_type": "code",
   "execution_count": 26,
   "id": "b61f5305-768c-4f2c-ad9a-e162cdba7f4f",
   "metadata": {},
   "outputs": [
    {
     "name": "stdout",
     "output_type": "stream",
     "text": [
      "          state  total_profit\n",
      "0    California       40207.0\n",
      "1      New York       25557.5\n",
      "2         Texas       14946.9\n",
      "3    Washington       11169.7\n",
      "4  Pennsylvania       10227.4\n"
     ]
    },
    {
     "data": {
      "image/png": "[encoded data removed]",
      "text/plain": [
       "<Figure size 900x400 with 1 Axes>"
      ]
     },
     "metadata": {},
     "output_type": "display_data"
    }
   ],
   "source": [
    "query=\"\"\"select top 5 state ,sum (profit) as total_profit\n",
    " from df_orders\n",
    " group by state \n",
    " order by total_profit desc;\"\"\"\n",
    "df=pd.read_sql(query,conn)\n",
    "print(df)\n",
    "\n",
    "df.plot(x=\"state\",y=\"total_profit\",\n",
    "kind=\"bar\" ,figsize=(9,4))\n",
    "plt.title(\"Top 5 state by profit\" )\n",
    "\n",
    "plt.show()    \n",
    "         \n",
    " "
   ]
  },
  {
   "cell_type": "markdown",
   "id": "7b6c2e5d-b177-4920-a2c3-717ddb81d14c",
   "metadata": {},
   "source": [
    "# Find top 10 highest revenue generating products"
   ]
  },
  {
   "cell_type": "code",
   "execution_count": 27,
   "id": "360655c5-f25d-4173-b225-9d2c765000e9",
   "metadata": {},
   "outputs": [
    {
     "name": "stdout",
     "output_type": "stream",
     "text": [
      "        product_id  revenue\n",
      "0  TEC-CO-10004722  59514.0\n",
      "1  OFF-BI-10003527  26525.3\n",
      "2  TEC-MA-10002412  21734.4\n",
      "3  FUR-CH-10002024  21096.2\n",
      "4  OFF-BI-10001359  19090.2\n",
      "5  OFF-BI-10000545  18249.0\n",
      "6  TEC-CO-10001449  18151.2\n",
      "7  TEC-MA-10001127  17906.4\n",
      "8  OFF-BI-10004995  17354.8\n",
      "9  OFF-SU-10000151  16325.8\n"
     ]
    },
    {
     "data": {
      "image/png": "[encoded data removed]",
      "text/plain": [
       "<Figure size 900x400 with 1 Axes>"
      ]
     },
     "metadata": {},
     "output_type": "display_data"
    }
   ],
   "source": [
    "import pandas as pd \n",
    "query=\"\"\"select  top 10 product_id,sum(sale_price)as revenue\n",
    "from df_orders\n",
    "group by product_id\n",
    "order by revenue desc;\"\"\"\n",
    "df=pd.read_sql(query,conn)\n",
    "print(df)\n",
    "\n",
    "df.plot(x=\"product_id\",y=\"revenue\",\n",
    "kind=\"bar\" ,figsize=(9,4))\n",
    "plt.title(\"Top 10 highest revenue\" )\n",
    "plt.xlabel(\"id\")\n",
    "plt.ylabel(\"Sales\")\n",
    "plt.show()    \n",
    "         "
   ]
  },
  {
   "cell_type": "markdown",
   "id": "637f1a4c-9b5c-4ab0-9298-e99ebcafcd4c",
   "metadata": {},
   "source": [
    "# Find top 5 highest selling products in each region "
   ]
  },
  {
   "cell_type": "code",
   "execution_count": 28,
   "id": "0130527b-c052-4b36-b016-e5a8a9a9cdad",
   "metadata": {},
   "outputs": [
    {
     "name": "stdout",
     "output_type": "stream",
     "text": [
      "     region       product_id    sales  rn\n",
      "0   Central  TEC-CO-10004722  16975.0   1\n",
      "1   Central  TEC-MA-10000822  13770.0   2\n",
      "2   Central  OFF-BI-10001120  11056.5   3\n",
      "3   Central  OFF-BI-10000545  10132.7   4\n",
      "4   Central  OFF-BI-10004995   8416.1   5\n",
      "5      East  TEC-CO-10004722  29099.0   1\n",
      "6      East  TEC-MA-10001047  13767.0   2\n",
      "7      East  FUR-BO-10004834  11274.1   3\n",
      "8      East  OFF-BI-10001359   8463.6   4\n",
      "9      East  TEC-CO-10001449   8316.0   5\n",
      "10    South  TEC-MA-10002412  21734.4   1\n",
      "11    South  TEC-MA-10001127  11116.4   2\n",
      "12    South  OFF-BI-10001359   8053.2   3\n",
      "13    South  TEC-MA-10004125   7840.0   4\n",
      "14    South  OFF-BI-10003527   7391.4   5\n",
      "15     West  TEC-CO-10004722  13440.0   1\n",
      "16     West  OFF-SU-10000151  12592.3   2\n",
      "17     West  FUR-CH-10001215   9604.0   3\n",
      "18     West  OFF-BI-10003527   7804.8   4\n",
      "19     West  TEC-AC-10003832   7722.7   5\n"
     ]
    },
    {
     "data": {
      "image/png": "[encoded data removed]",
      "text/plain": [
       "<Figure size 640x480 with 1 Axes>"
      ]
     },
     "metadata": {},
     "output_type": "display_data"
    }
   ],
   "source": [
    "query=\"\"\"with cte as (\n",
    "select region,product_id,sum(sale_price)as sales\n",
    "from df_orders\n",
    "group by region,product_id)\n",
    "select* from(\n",
    "select*,\n",
    "row_number() over(partition by region order by sales desc)as rn\n",
    "from cte)as a\n",
    "where rn <=5;\"\"\"\n",
    "df=pd.read_sql(query,conn)\n",
    "print(df)\n",
    "data=pd.DataFrame({\n",
    "    \"region\":[ \"Central\",\"Central\",\"Central\",\"Central\",\"Central\",\"East\",\"East\",\"East\",\"East\",\"East\",\"South\",\"South\",\"South\",\"South\",\"South\",\" West\",\" West\",\" West\",\" West\",\" West\",],\n",
    "    \"product_id\":[\"TEC-CO-10004722\",\"TEC-MA-10000822\",\"OFF-BI-10001120\", \"OFF-BI-10000545\",\"OFF-BI-10004995\",\"TEC-CO-10004722\",\"TEC-MA-10001047\",\"FUR-BO-10004834\" ,\"OFF-BI-10001359\",\" TEC-CO-10001449\",\"TEC-MA-10002412\",\" TEC-MA-10001127\", \"OFF-BI-10001359\",\" TEC-MA-10004125\",  \"OFF-BI-10003527\",\"TEC-CO-10004722\",\"OFF-SU-10000151\",\"FUR-CH-10001215  \",\"OFF-BI-10003527\",\"TEC-AC-10003832\"],\n",
    "    \"sales\":[   16975.0 , 13770.0,  11056.5,10132.7,  8416.1, 29099.0, 13767.0,11274.1,8463.6 ,8316,021734.4,11116.4,8053.2,7840.0, 7391.4,13440.0,12592.3,9604.0,7804.8 ,7722.7 ]})\n",
    "sns.barplot(x=\"product_id\",y=\"sales\",hue=\"region\",data=data)\n",
    "plt.title(\"Top 5 Highest Selling Products in Each Region\")\n",
    "plt.xticks(rotation=90) # roatate product ids so they don't overlap\n",
    "plt.show()\n",
    "\n",
    "    "
   ]
  },
  {
   "cell_type": "code",
   "execution_count": 29,
   "id": "95f8a56a-6a14-43ca-b642-ab265ac9f425",
   "metadata": {},
   "outputs": [
    {
     "name": "stdout",
     "output_type": "stream",
     "text": [
      "Index(['region', 'product_id', 'sales'], dtype='object')\n"
     ]
    }
   ],
   "source": [
    "print(data.columns)"
   ]
  },
  {
   "cell_type": "markdown",
   "id": "7a9bc1f2-283a-4be6-b0eb-152870ec497c",
   "metadata": {},
   "source": [
    "# Find month over month growth camparision for 2022 and 2023 sales "
   ]
  },
  {
   "cell_type": "code",
   "execution_count": 30,
   "id": "1643fee2-fb49-4ae0-b538-94f2b94b78c7",
   "metadata": {},
   "outputs": [
    {
     "name": "stdout",
     "output_type": "stream",
     "text": [
      "    order_month  sales_2022  sales_2023\n",
      "0             1     94712.5     88632.6\n",
      "1             2     90091.0    128124.2\n",
      "2             3     80106.0     82512.3\n",
      "3             4     95451.6    111568.6\n",
      "4             5     79448.3     86447.9\n",
      "5             6     94170.5     68976.5\n",
      "6             7     78652.2     90563.8\n",
      "7             8    104808.0     87733.6\n",
      "8             9     79142.2     76658.6\n",
      "9            10    118912.7    121061.5\n",
      "10           11     84225.3     75432.8\n",
      "11           12     95869.9    102556.1\n"
     ]
    },
    {
     "data": {
      "image/png": "[encoded data removed]",
      "text/plain": [
       "<Figure size 1000x600 with 1 Axes>"
      ]
     },
     "metadata": {},
     "output_type": "display_data"
    }
   ],
   "source": [
    "query=\"\"\"with cte as (\n",
    "select year(order_date)as order_year,month(order_date) as order_month, sum(sale_price) as sales\n",
    "from df_orders\n",
    "group by year(order_date),month(order_date) )\n",
    "select order_month,\n",
    "sum(case when order_year=2022 then sales else 0 end) as sales_2022,\n",
    "sum(case when order_year=2023 then sales else 0 end) as sales_2023\n",
    "from cte\n",
    "group by order_month\n",
    "order by order_month;\"\"\"\n",
    "df=pd.read_sql(query,conn)\n",
    "print(df)\n",
    "\n",
    "\n",
    "df.plot(x=\"order_month\",y=[\"sales_2022\",\"sales_2023\"],\n",
    "kind=\"bar\" ,figsize=(10,6))\n",
    "plt.title(\"Monthly Sales Camparision'2022 vs 2023\" )\n",
    "plt.xlabel(\"Months\")\n",
    "plt.ylabel(\"Sales\")\n",
    "plt.show()\n",
    "          "
   ]
  },
  {
   "cell_type": "markdown",
   "id": "913ebde6-f013-4a63-8511-d2e12ccc1ed4",
   "metadata": {},
   "source": [
    "# For each category which month had higest sales"
   ]
  },
  {
   "cell_type": "code",
   "execution_count": 31,
   "id": "20b28ed2-1860-47de-9831-40ea065a75f6",
   "metadata": {},
   "outputs": [
    {
     "name": "stdout",
     "output_type": "stream",
     "text": [
      "          category order_year_month    sales  rn\n",
      "0        Furniture           202210  42888.9   1\n",
      "1  Office Supplies           202302  44118.5   1\n",
      "2       Technology           202310  53000.1   1\n"
     ]
    },
    {
     "data": {
      "image/png": "[encoded data removed]",
      "text/plain": [
       "<Figure size 640x480 with 1 Axes>"
      ]
     },
     "metadata": {},
     "output_type": "display_data"
    },
    {
     "data": {
      "text/plain": [
       "<Figure size 900x1000 with 0 Axes>"
      ]
     },
     "metadata": {},
     "output_type": "display_data"
    }
   ],
   "source": [
    "query=\"\"\"with cte as(\n",
    "select  category,format(order_date,'yyyyMM') as order_year_month ,sum(sale_price) as sales\n",
    "from df_orders\n",
    "group by category,format(order_date,'yyyyMM'))\n",
    "select* from(\n",
    "select*,\n",
    "row_number() over(partition by category order by sales desc)as rn\n",
    "from cte) a\n",
    "where rn=1;\"\"\"\n",
    "df=pd.read_sql(query,conn)\n",
    "print(df)\n",
    "data=pd.DataFrame({\n",
    "    \"category\":[\" Furniture \",\"Office Supplies\",\"Technology\"],\n",
    "    \"order_year_month\":[\"202210 \",\" 202302 \",\"202310\"],\n",
    "    \"sales\":[42888.9,44118.5 ,53000.1]})\n",
    "sns.barplot(x= \"order_year_month\",y=\"sales\",hue= \"category\",data=data)\n",
    "plt.title(\"higest selling month in each category\")\n",
    "plt.figure(figsize=(9,10))\n",
    "plt.show()\n",
    "    "
   ]
  },
  {
   "cell_type": "markdown",
   "id": "df028db4-0399-4086-a8fe-259427981d19",
   "metadata": {},
   "source": [
    "-Total sales crosssed 2215858.7  with profit  205168.7,driven manily by the west region and top states like California and new York.Customer prefer standard Class shipping ,technology and office suppliers are the strongest categories,showing overall positive growth."
   ]
  },
  {
   "cell_type": "code",
   "execution_count": null,
   "id": "da7dd196-75c2-41a1-8b0d-14ccbfa96add",
   "metadata": {},
   "outputs": [],
   "source": []
  }
 ],
 "metadata": {
  "kernelspec": {
   "display_name": "Python 3 (ipykernel)",
   "language": "python",
   "name": "python3"
  },
  "language_info": {
   "codemirror_mode": {
    "name": "ipython",
    "version": 3
   },
   "file_extension": ".py",
   "mimetype": "text/x-python",
   "name": "python",
   "nbconvert_exporter": "python",
   "pygments_lexer": "ipython3",
   "version": "3.13.5"
  }
 },
 "nbformat": 4,
 "nbformat_minor": 5
}
